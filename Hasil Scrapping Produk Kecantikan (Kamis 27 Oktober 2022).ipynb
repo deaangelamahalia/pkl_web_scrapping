{
 "cells": [
  {
   "cell_type": "markdown",
   "id": "eff8922c",
   "metadata": {},
   "source": [
    "# KECANTIKAN"
   ]
  },
  {
   "cell_type": "code",
   "execution_count": 5,
   "id": "abc8fefb",
   "metadata": {},
   "outputs": [],
   "source": [
    "import requests #Mengimport library request untuk memanggil url\n",
    "import json #Mengimport library json untuk mengubah data dictionary menjadi teks json\n",
    "import pandas as pd #Mengimport library pandas untuk mengubah file json menjadi dataframe"
   ]
  },
  {
   "cell_type": "code",
   "execution_count": 2,
   "id": "de7d120f",
   "metadata": {},
   "outputs": [],
   "source": [
    "list_nama,list_harga=[],[] #Membuat List"
   ]
  },
  {
   "cell_type": "code",
   "execution_count": 4,
   "id": "9c4341d8",
   "metadata": {},
   "outputs": [
    {
     "name": "stdout",
     "output_type": "stream",
     "text": [
      "~~~~~~~~~~~~~\n",
      "~~~~~~~~~~~~~\n",
      "~~~~~~~~~~~~~\n",
      "~~~~~~~~~~~~~\n",
      "~~~~~~~~~~~~~\n",
      "~~~~~~~~~~~~~\n",
      "~~~~~~~~~~~~~\n",
      "~~~~~~~~~~~~~\n",
      "~~~~~~~~~~~~~\n",
      "~~~~~~~~~~~~~\n"
     ]
    }
   ],
   "source": [
    "#mencari rentang dari offset/urutan data dari 0 - 70 dari kelipatan 7\n",
    "for page in range (0, 70, 7):\n",
    "    url = \"https://api.bukalapak.com/general-trade/products?limit=7&offset={}&slug=kecantikan&api_version=2&access_token=PmaaotrmxDeQNN7DvrastKFiJ5Q7fIsNYCuqRo9HQtikdg\".format(page)\n",
    "    r = requests.get(url=url).content #request url mitra bukalapak produk kecantikan\n",
    "    data = json.loads(r.decode()) #mengubah dictionary ke json\n",
    "    # setelah data di ubah ke json, data akan dipilah berdasarkan class\n",
    "    for i in data['data']:\n",
    "        nama = i['name']\n",
    "        harga = i['original_price']\n",
    "        # kemudian hasilnya akan diappend ke list yang sudah dibuat\n",
    "        list_nama.append(nama)\n",
    "        list_harga.append(harga)\n",
    "    print('~~~~~~~~~~~~~')"
   ]
  },
  {
   "cell_type": "code",
   "execution_count": 5,
   "id": "bd9a272d",
   "metadata": {},
   "outputs": [],
   "source": [
    "df = pd.DataFrame({'Nama':list_nama,'Harga':list_harga}) #membuat variable df untuk membuat dataframe menggunakan fungsi pd.Dataframe "
   ]
  },
  {
   "cell_type": "code",
   "execution_count": 6,
   "id": "7c17ea9f",
   "metadata": {},
   "outputs": [
    {
     "data": {
      "text/html": [
       "<div>\n",
       "<style scoped>\n",
       "    .dataframe tbody tr th:only-of-type {\n",
       "        vertical-align: middle;\n",
       "    }\n",
       "\n",
       "    .dataframe tbody tr th {\n",
       "        vertical-align: top;\n",
       "    }\n",
       "\n",
       "    .dataframe thead th {\n",
       "        text-align: right;\n",
       "    }\n",
       "</style>\n",
       "<table border=\"1\" class=\"dataframe\">\n",
       "  <thead>\n",
       "    <tr style=\"text-align: right;\">\n",
       "      <th></th>\n",
       "      <th>Nama</th>\n",
       "      <th>Harga</th>\n",
       "    </tr>\n",
       "  </thead>\n",
       "  <tbody>\n",
       "    <tr>\n",
       "      <th>0</th>\n",
       "      <td>Herborist Minyak Zaitun 75ml</td>\n",
       "      <td>18900</td>\n",
       "    </tr>\n",
       "    <tr>\n",
       "      <th>1</th>\n",
       "      <td>Miranda Hair Color Bleaching Box 30ml</td>\n",
       "      <td>11750</td>\n",
       "    </tr>\n",
       "    <tr>\n",
       "      <th>2</th>\n",
       "      <td>Miranda Hair Color Natural Black Box 30ml</td>\n",
       "      <td>11750</td>\n",
       "    </tr>\n",
       "    <tr>\n",
       "      <th>3</th>\n",
       "      <td>Miranda Hair Vit Blister Aloe Vera 1ml 6's</td>\n",
       "      <td>10250</td>\n",
       "    </tr>\n",
       "    <tr>\n",
       "      <th>4</th>\n",
       "      <td>Miranda Hair Vit Blister Coconut Oil 1ml 6's</td>\n",
       "      <td>10250</td>\n",
       "    </tr>\n",
       "    <tr>\n",
       "      <th>...</th>\n",
       "      <td>...</td>\n",
       "      <td>...</td>\n",
       "    </tr>\n",
       "    <tr>\n",
       "      <th>63</th>\n",
       "      <td>Soffell Bunga Geranium 6g 24's</td>\n",
       "      <td>10100</td>\n",
       "    </tr>\n",
       "    <tr>\n",
       "      <th>64</th>\n",
       "      <td>Soffell Kulit Jeruk 6g 24's</td>\n",
       "      <td>10100</td>\n",
       "    </tr>\n",
       "    <tr>\n",
       "      <th>65</th>\n",
       "      <td>Viva Bedak Zak Mini Natural 15g</td>\n",
       "      <td>1600</td>\n",
       "    </tr>\n",
       "    <tr>\n",
       "      <th>66</th>\n",
       "      <td>Viva Face Tonic Lemon 100ml</td>\n",
       "      <td>5900</td>\n",
       "    </tr>\n",
       "    <tr>\n",
       "      <th>67</th>\n",
       "      <td>Viva Face Tonic Standard 100ml</td>\n",
       "      <td>5900</td>\n",
       "    </tr>\n",
       "  </tbody>\n",
       "</table>\n",
       "<p>68 rows × 2 columns</p>\n",
       "</div>"
      ],
      "text/plain": [
       "                                            Nama  Harga\n",
       "0                   Herborist Minyak Zaitun 75ml  18900\n",
       "1          Miranda Hair Color Bleaching Box 30ml  11750\n",
       "2      Miranda Hair Color Natural Black Box 30ml  11750\n",
       "3     Miranda Hair Vit Blister Aloe Vera 1ml 6's  10250\n",
       "4   Miranda Hair Vit Blister Coconut Oil 1ml 6's  10250\n",
       "..                                           ...    ...\n",
       "63                Soffell Bunga Geranium 6g 24's  10100\n",
       "64                   Soffell Kulit Jeruk 6g 24's  10100\n",
       "65               Viva Bedak Zak Mini Natural 15g   1600\n",
       "66                   Viva Face Tonic Lemon 100ml   5900\n",
       "67                Viva Face Tonic Standard 100ml   5900\n",
       "\n",
       "[68 rows x 2 columns]"
      ]
     },
     "execution_count": 6,
     "metadata": {},
     "output_type": "execute_result"
    }
   ],
   "source": [
    "df"
   ]
  },
  {
   "cell_type": "code",
   "execution_count": null,
   "id": "62d4a35e",
   "metadata": {},
   "outputs": [],
   "source": [
    "df.to_csv('Kecantikan.csv', index=False) #mengubah dataframe hasil scrapping ke file csv/excel"
   ]
  }
 ],
 "metadata": {
  "kernelspec": {
   "display_name": "Python 3 (ipykernel)",
   "language": "python",
   "name": "python3"
  },
  "language_info": {
   "codemirror_mode": {
    "name": "ipython",
    "version": 3
   },
   "file_extension": ".py",
   "mimetype": "text/x-python",
   "name": "python",
   "nbconvert_exporter": "python",
   "pygments_lexer": "ipython3",
   "version": "3.10.5"
  }
 },
 "nbformat": 4,
 "nbformat_minor": 5
}
