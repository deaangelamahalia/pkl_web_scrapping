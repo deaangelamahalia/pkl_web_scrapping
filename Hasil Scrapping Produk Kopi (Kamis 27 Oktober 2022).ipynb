{
 "cells": [
  {
   "cell_type": "code",
   "execution_count": 29,
   "id": "e58635f8",
   "metadata": {},
   "outputs": [],
   "source": [
    "import requests #Mengimport library request untuk memanggil url\n",
    "import json #Mengimport library json untuk mengubah data dictionary menjadi teks json\n",
    "import pandas as pd #Mengimport library pandas untuk mengubah file json menjadi dataframe"
   ]
  },
  {
   "cell_type": "code",
   "execution_count": 30,
   "id": "cf4204a7",
   "metadata": {},
   "outputs": [],
   "source": [
    "list_nama,list_harga=[],[] #Membuat List"
   ]
  },
  {
   "cell_type": "code",
   "execution_count": 35,
   "id": "aae2dc7e",
   "metadata": {},
   "outputs": [
    {
     "name": "stdout",
     "output_type": "stream",
     "text": [
      "~~~~~~~~~~~~~\n",
      "~~~~~~~~~~~~~\n",
      "~~~~~~~~~~~~~\n",
      "~~~~~~~~~~~~~\n",
      "~~~~~~~~~~~~~\n",
      "~~~~~~~~~~~~~\n",
      "~~~~~~~~~~~~~\n",
      "~~~~~~~~~~~~~\n",
      "~~~~~~~~~~~~~\n",
      "~~~~~~~~~~~~~\n"
     ]
    }
   ],
   "source": [
    "# mencari rentang dari offset/urutan data dari 0 - 70 dari kelipatan 7\n",
    "for page in range (0, 70, 7):\n",
    "    url = \"https://api.bukalapak.com/general-trade/products?limit=7&offset={}&slug=kopi&api_version=2&access_token=LNwkyKJ93bAhe-VU-UXS8eQl7SnmceIATzcQJv8kFSw3hQ\".format(page)\n",
    "    r = requests.get(url=url).content #request url mitra bukalapak produk kecantikan\n",
    "    data = json.loads(r.decode()) #mengubah dictionary ke json\n",
    "# setelah data di ubah ke json, data akan dipilah berdasarkan class\n",
    "    for i in data['data']:\n",
    "        nama = i['name']\n",
    "        harga = i['original_price']\n",
    "        # kemudian hasilnya akan diappend ke list yang sudah dibuat\n",
    "        list_nama.append(nama)\n",
    "        list_harga.append(harga)\n",
    "    \n",
    "    print('~~~~~~~~~~~~~')"
   ]
  },
  {
   "cell_type": "code",
   "execution_count": null,
   "id": "53c8eea1",
   "metadata": {},
   "outputs": [],
   "source": [
    "df = pd.DataFrame({'Nama':list_nama,'Harga':list_harga}) #membuat variable df untuk membuat dataframe menggunakan fungsi pd.Dataframe "
   ]
  },
  {
   "cell_type": "code",
   "execution_count": 6,
   "id": "e8fb9fdf",
   "metadata": {},
   "outputs": [
    {
     "data": {
      "text/html": [
       "<div>\n",
       "<style scoped>\n",
       "    .dataframe tbody tr th:only-of-type {\n",
       "        vertical-align: middle;\n",
       "    }\n",
       "\n",
       "    .dataframe tbody tr th {\n",
       "        vertical-align: top;\n",
       "    }\n",
       "\n",
       "    .dataframe thead th {\n",
       "        text-align: right;\n",
       "    }\n",
       "</style>\n",
       "<table border=\"1\" class=\"dataframe\">\n",
       "  <thead>\n",
       "    <tr style=\"text-align: right;\">\n",
       "      <th></th>\n",
       "      <th>Nama</th>\n",
       "      <th>Harga</th>\n",
       "    </tr>\n",
       "  </thead>\n",
       "  <tbody>\n",
       "    <tr>\n",
       "      <th>0</th>\n",
       "      <td>Golda Coffee Dolce Latte Botol 200ml</td>\n",
       "      <td>30600</td>\n",
       "    </tr>\n",
       "    <tr>\n",
       "      <th>1</th>\n",
       "      <td>Luwak White Koffie Original Sachet 20g</td>\n",
       "      <td>11600</td>\n",
       "    </tr>\n",
       "    <tr>\n",
       "      <th>2</th>\n",
       "      <td>Kapal Api Special Mix Kopi+Gula Sachet 24/25g</td>\n",
       "      <td>12100</td>\n",
       "    </tr>\n",
       "    <tr>\n",
       "      <th>3</th>\n",
       "      <td>ABC Kopi Susu Sachet 30/31g</td>\n",
       "      <td>11750</td>\n",
       "    </tr>\n",
       "    <tr>\n",
       "      <th>4</th>\n",
       "      <td>Good Day 3 in 1 Mocacinno Sachet 20g</td>\n",
       "      <td>11500</td>\n",
       "    </tr>\n",
       "    <tr>\n",
       "      <th>...</th>\n",
       "      <td>...</td>\n",
       "      <td>...</td>\n",
       "    </tr>\n",
       "    <tr>\n",
       "      <th>64</th>\n",
       "      <td>Tora Cafe Iced Cappuccino Pack 180ml</td>\n",
       "      <td>59500</td>\n",
       "    </tr>\n",
       "    <tr>\n",
       "      <th>65</th>\n",
       "      <td>Tora Cafe Iced Milky Latte Pack 180ml</td>\n",
       "      <td>59500</td>\n",
       "    </tr>\n",
       "    <tr>\n",
       "      <th>66</th>\n",
       "      <td>Tora Cafe Milky Latte Sachet 22g</td>\n",
       "      <td>11300</td>\n",
       "    </tr>\n",
       "    <tr>\n",
       "      <th>67</th>\n",
       "      <td>Toracafe Iced Cappuccino 180ml</td>\n",
       "      <td>37750</td>\n",
       "    </tr>\n",
       "    <tr>\n",
       "      <th>68</th>\n",
       "      <td>Toracafe Iced Milky Latte 180ml</td>\n",
       "      <td>37750</td>\n",
       "    </tr>\n",
       "  </tbody>\n",
       "</table>\n",
       "<p>69 rows × 2 columns</p>\n",
       "</div>"
      ],
      "text/plain": [
       "                                             Nama  Harga\n",
       "0            Golda Coffee Dolce Latte Botol 200ml  30600\n",
       "1          Luwak White Koffie Original Sachet 20g  11600\n",
       "2   Kapal Api Special Mix Kopi+Gula Sachet 24/25g  12100\n",
       "3                     ABC Kopi Susu Sachet 30/31g  11750\n",
       "4            Good Day 3 in 1 Mocacinno Sachet 20g  11500\n",
       "..                                            ...    ...\n",
       "64           Tora Cafe Iced Cappuccino Pack 180ml  59500\n",
       "65          Tora Cafe Iced Milky Latte Pack 180ml  59500\n",
       "66               Tora Cafe Milky Latte Sachet 22g  11300\n",
       "67                 Toracafe Iced Cappuccino 180ml  37750\n",
       "68                Toracafe Iced Milky Latte 180ml  37750\n",
       "\n",
       "[69 rows x 2 columns]"
      ]
     },
     "execution_count": 6,
     "metadata": {},
     "output_type": "execute_result"
    }
   ],
   "source": [
    "df"
   ]
  },
  {
   "cell_type": "code",
   "execution_count": 13,
   "id": "f7ca1e88",
   "metadata": {},
   "outputs": [],
   "source": [
    "df.to_csv('kopi.csv', index=False) #mengubah dataframe hasil scrapping ke file csv/excel"
   ]
  }
 ],
 "metadata": {
  "kernelspec": {
   "display_name": "Python 3 (ipykernel)",
   "language": "python",
   "name": "python3"
  },
  "language_info": {
   "codemirror_mode": {
    "name": "ipython",
    "version": 3
   },
   "file_extension": ".py",
   "mimetype": "text/x-python",
   "name": "python",
   "nbconvert_exporter": "python",
   "pygments_lexer": "ipython3",
   "version": "3.10.5"
  }
 },
 "nbformat": 4,
 "nbformat_minor": 5
}
